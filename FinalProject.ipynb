{
 "cells": [
  {
   "cell_type": "markdown",
   "metadata": {},
   "source": [
    "## Please check [here](https://github.com/rjtkp/P1.4_finite_elememt/blob/master/FinalProject.ipynb)  for my answer."
   ]
  },
  {
   "cell_type": "markdown",
   "metadata": {},
   "source": [
    "## Final project. Applied Mathematics / Numerical Analysis / P1.4\n",
    "\n",
    "Using Lagrangian finite elements with Chebyshev nodes, defined on square, of arbitrary order\n",
    "\n",
    "Find the solution of \n",
    "\n",
    "$$\n",
    "-\\Delta \\mathbf u + \\mathbf u = \\mathbf f \\text{ in } \\Omega, \\qquad n \\cdot \\delta u = 0 \\text{ on } \\partial \\Omega\n",
    "$$\n",
    "\n",
    "on the square $\\Omega = [0,1]^2$. For the sake of simplicity you can consider just **one finite element** and homogeneous Neumann boundary conditions. \n",
    "\n",
    "The above problem can be rewritten in matrix form as\n",
    "\n",
    "$$\n",
    "A u = (K+M) u =  b\n",
    "$$\n",
    "\n",
    "where $K$ is the stiffness matrix, and $M$ is the mass matrix.\n",
    "\n",
    "In order to do so, express $u$ as a linear combination of basis functions, multiply from the left with a basis function, and integrate by parts the laplacian to obtain:\n",
    "\n",
    "$$\n",
    "K_{ij} := \\int_\\Omega \\nabla v_i \\cdot \\nabla v_j,\\qquad M_{ij} = \\int_\\Omega v_i v_j, \\qquad b_i = \\int_\\Omega v_i f\n",
    "$$"
   ]
  },
  {
   "cell_type": "code",
   "execution_count": null,
   "metadata": {},
   "outputs": [],
   "source": []
  },
  {
   "cell_type": "markdown",
   "metadata": {
    "ein.tags": [
     "worksheet-0"
    ],
    "slideshow": {
     "slide_type": "-"
    }
   },
   "source": [
    "### 1 Construct (or use the available functions from numpy/scipy) the chebishev nodes of given order\n",
    "\n",
    "Once you constructed them, plot them."
   ]
  },
  {
   "cell_type": "code",
   "execution_count": null,
   "metadata": {},
   "outputs": [],
   "source": []
  },
  {
   "cell_type": "markdown",
   "metadata": {},
   "source": [
    "### 2 Construct (or use the available functions from numpy/scipy) the one-dimensional Lagrange basis functions on the Chebishev nodes\n",
    "Make sure each entry of basis_1d is a callable function, that you can evaluate at a given point. Plot all of the basis functions, using a numpy array `Vs`, storing all basis functions evaluated on evenly spaced points, called `s`"
   ]
  },
  {
   "cell_type": "code",
   "execution_count": null,
   "metadata": {},
   "outputs": [],
   "source": []
  },
  {
   "cell_type": "markdown",
   "metadata": {},
   "source": [
    "### 3 Construct three one-dimensional quadrature formulas, to integrate the matrices, the right hand side, and the error\n",
    "\n",
    "In general the size of the quadratures should be selectable by the user.\n",
    "\n",
    "Anything that should be evaluated on one of quadrature points, should be named accordingly (i.e., using a suffix `m,r,e`) for the three collections"
   ]
  },
  {
   "cell_type": "code",
   "execution_count": null,
   "metadata": {},
   "outputs": [],
   "source": []
  },
  {
   "cell_type": "markdown",
   "metadata": {},
   "source": [
    "### 4 Evaluate all the one dimensional basis functions at each collection of quadrature points\n",
    "\n",
    "Store the results in three different numpy arrays, one for quadrature. Use suffix `m,r,e` for the arrays representing the basis functions evaluated at the quadrature points to be used for the matrices, rhs, and errors respectively."
   ]
  },
  {
   "cell_type": "code",
   "execution_count": null,
   "metadata": {},
   "outputs": [],
   "source": []
  },
  {
   "cell_type": "markdown",
   "metadata": {},
   "source": [
    "### 5 Evaluate the derivatives of the basis functions at each collection of quadrature points\n",
    "\n",
    "Store the results in three different numpy arrays, one for quadrature. Use suffix `m,r,e` for the arrays representing the basis functions evaluated at the quadrature points to be used for the matrices, rhs, and errors respectively."
   ]
  },
  {
   "cell_type": "code",
   "execution_count": null,
   "metadata": {},
   "outputs": [],
   "source": []
  },
  {
   "cell_type": "markdown",
   "metadata": {},
   "source": [
    "### 6 Construct the two dimensional quadrature formulas as tensor products of the one dimensional ones\n",
    "\n",
    "Given two one dimensional quadrature formulas with points $x_r$ and $y_q$, we can construct the corresponding two dimensional quadrature formulas by using `einsum` to obtain the weights of higher dimensional tensor product quadrature formulas, on the points $(x_r, y_q)$:\n",
    "\n",
    "$$\n",
    "X_{qr} = (x_r, y_q),  J2_{qr} = w_r w_q\n",
    "$$\n",
    "\n",
    "Use lexycographical ordering w.r.t. to C: `x` runs faster than `y`.\n",
    "\n",
    "Integration of a scalar function of two variables on the square can then be approximated as\n",
    "\n",
    "$$\n",
    "\\int_0^1 \\int_0^1 f(x,y) dx \\, dy \\sim \\sum_{r=0}^{n_q-1}\\sum_{q=0}^{n_q-1} f(x_r, y_q)  w_r w_q = \\sum_{r=0}^{n_q-1}\\sum_{q=0}^{n_q-1} f(X_{qr})  J_{qr}\n",
    "$$\n"
   ]
  },
  {
   "cell_type": "code",
   "execution_count": null,
   "metadata": {},
   "outputs": [],
   "source": []
  },
  {
   "cell_type": "markdown",
   "metadata": {},
   "source": [
    "### 7 Construct the two dimensional basis functions as tensor products of the one dimensional ones\n",
    "\n",
    "Given a set of one dimensional basis functions, one can construct the tensor product space for two dimensional problems by defining\n",
    "\n",
    "$$\n",
    "V_{ij}(x,y) := v_i(y) v_j(x), \\quad i,j = 0,\\ldots,n-1.\n",
    "$$\n",
    "\n",
    "If we only need these to be evaluated at some quadrature points, $V_{iq} = v_i(x_q)$, we can construct the corresponding two dimensional basis functions by using `einsum` to obtain higher dimensional arrays on tensor product points:\n",
    "\n",
    "$$\n",
    "V2_{qr\\, ij} =  v_i(y_q) v_j(x_r)\n",
    "$$\n",
    "\n",
    "representing one two dimensional basis function (identified by the two indices $i,j$, one indicating the $j$-th basis function along $x$, and the other identifying the $i$-th basis function along $y$), evaluated at the point $(x_r, y_q)$.\n",
    "\n",
    "Notice that we use lexycographical ordering: `x` runs faster than `y`, both for the numbering of the basis functions and for the order of the quadrature points. Moreover, we group together the indices running over the quadrature poitns, and the ones running over the basis function indices, while maintaining the lexycographical ordering.\n",
    "\n",
    "This allows you to resize the arrays, so that the results only have two dimensional matrices, with shape `(quadrature_size_xxx^2,order^2)`. "
   ]
  },
  {
   "cell_type": "code",
   "execution_count": null,
   "metadata": {},
   "outputs": [],
   "source": []
  },
  {
   "cell_type": "markdown",
   "metadata": {},
   "source": [
    "Notice that, since you used the correct ordering, you can actually plot some of the basis functions, for example the 2 along x, 3 along y, as:"
   ]
  },
  {
   "cell_type": "code",
   "execution_count": null,
   "metadata": {},
   "outputs": [],
   "source": []
  },
  {
   "cell_type": "markdown",
   "metadata": {},
   "source": [
    "### 8 Assemble the matrices and the right hand side\n",
    "\n",
    "Using `einsum`, assemble the arrays representing the matrices and then resize them to be two-dimensional. Careful on how the stiffness matrix is defined:\n",
    "\n",
    "$$\n",
    "K_{ij \\, kl} = \\int_{\\Omega} \\nabla v_{ij} \\cdot \\nabla v_{kl} = \\sum_q \\sum_r (v'_j(x_r)v_i(y_q) v'_l(x_r)v_k(y_q) +v_j(x_r)v'_i(y_q) v_l(x_r)v'_k(y_q) )w_r w_q\n",
    "$$\n",
    "\n",
    "Using summation convention, this is equivalent to:\n",
    "\n",
    "```\n",
    "(Vm[i][q]*Dm[j][r] Vm[k][q]*Dm[l][r] + Dm[i][q]*Vm[j][r] *Dm[k][q]Vm[l][r])W[r]*W[q]\n",
    "```\n",
    "or\n",
    "```\n",
    "(VDm[q][r][i][j]^2 + DVm[q][r][i][j]^2)W2[q,r]\n",
    "```"
   ]
  },
  {
   "cell_type": "code",
   "execution_count": null,
   "metadata": {},
   "outputs": [],
   "source": []
  },
  {
   "cell_type": "markdown",
   "metadata": {},
   "source": [
    "### 9 Using a known solution, construct a right hand side that would produce the given solution, and assemble it\n",
    "\n",
    "Given a solution that satisfies the boundary conditions (for example:) \n",
    "\n",
    "$$\n",
    "u(x,y) = \\cos(\\pi x)\\cos(3\\pi y)\n",
    "$$\n",
    "compute its laplacian, put a minus in front of it, and sum $u$ to it. The result is the forcing term $f$ that you have to use in order to obtain $u$ as a solution to the problem. Call it `my_function`, compute the right hand side by integrating with the basis functions and reshape it to be a vector of size `order^2`:"
   ]
  },
  {
   "cell_type": "code",
   "execution_count": null,
   "metadata": {},
   "outputs": [],
   "source": []
  },
  {
   "cell_type": "markdown",
   "metadata": {},
   "source": [
    "### 10 Solve the linear system, and plot the solution\n",
    "\n",
    "Use a direct solver to solve the linear system. Once you have the coefficients `u` as a vector, reshape it to a matrix, and use einsum to have its values on the `s` space."
   ]
  },
  {
   "cell_type": "code",
   "execution_count": null,
   "metadata": {},
   "outputs": [],
   "source": []
  },
  {
   "cell_type": "markdown",
   "metadata": {},
   "source": [
    "### 11 Compute the L2 error of the solution\n",
    "\n",
    "The L2 error is defined as \n",
    "\n",
    "$$\n",
    "\\| u - u_h \\| := \\sqrt{\\int_\\Omega (u(x,y) - u^{ij} V_{ij}(x,y))^2 dx\\, dy } \\sim \\sqrt{\\sum_q \\sum_r (u(x_r, y_q) -V_{qrij} u^{ij})^2 W_{qr}}\n",
    "$$\n",
    "\n",
    "use the quadrature formula and the matrix you constructed above to compute the approximate solutions at the quadrature points."
   ]
  },
  {
   "cell_type": "code",
   "execution_count": null,
   "metadata": {
    "scrolled": true
   },
   "outputs": [],
   "source": []
  },
  {
   "cell_type": "markdown",
   "metadata": {},
   "source": [
    "### 12 Group together all of the above in a function\n",
    "\n",
    "The function should take as input the `degree` of the one dimensional basis space, the degrees of the three quadrature formulas, a number of points where you want to produce the outputs.\n",
    "\n",
    "Once you have the function, create a `log-log` plot of the L2 error with respect to the input degree"
   ]
  },
  {
   "cell_type": "code",
   "execution_count": null,
   "metadata": {},
   "outputs": [],
   "source": []
  },
  {
   "cell_type": "markdown",
   "metadata": {},
   "source": [
    "### 13 [OPTIONAL] Augment the function above\n",
    "\n",
    "Make it take an optional argument that switches from a direct to an iterative solver (use CG, with a simple preconditioner of your choice).\n",
    "\n",
    "Make a plot of cost it takes to run with iterative VS direct solvers. Is there a cross over point? For what degree?"
   ]
  },
  {
   "cell_type": "markdown",
   "metadata": {
    "collapsed": true
   },
   "source": []
  },
  {
   "cell_type": "markdown",
   "metadata": {},
   "source": [
    "### 14 [OPTIONAL] Matrix free\n",
    "\n",
    "Using the iterative solver, implement a matrix-free approach where the computation of the matrices is substituted with a  function that returns the *matrix-vector* product. In doing so, you must take care of rewriting the assemble of the matrix as a sum of many *matrix-matrix* products exploiting all the possible tensor products. \n",
    "\n",
    "Compare and comment the compuational cost of 100 matrix-vector product when the matrix is assembled and when it is computed on-the-fly as a function of the degree of the finite element. Is there a cross-over point? Is matrix free always convenient?\n",
    "\n",
    "To see an explanation of how matrix free works, take a look at this page: \n",
    "\n",
    "https://www.dealii.org/8.5.0/doxygen/deal.II/step_37.html"
   ]
  },
  {
   "cell_type": "code",
   "execution_count": null,
   "metadata": {
    "collapsed": true
   },
   "outputs": [],
   "source": []
  }
 ],
 "metadata": {
  "anaconda-cloud": {},
  "kernelspec": {
   "display_name": "Python 3",
   "language": "python",
   "name": "python3"
  },
  "language_info": {
   "codemirror_mode": {
    "name": "ipython",
    "version": 3
   },
   "file_extension": ".py",
   "mimetype": "text/x-python",
   "name": "python",
   "nbconvert_exporter": "python",
   "pygments_lexer": "ipython3",
   "version": "3.5.2"
  },
  "name": "07_non_linear_equations.ipynb"
 },
 "nbformat": 4,
 "nbformat_minor": 1
}
